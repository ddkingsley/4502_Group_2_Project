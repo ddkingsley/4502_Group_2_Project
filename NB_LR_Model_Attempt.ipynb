{
 "cells": [
  {
   "cell_type": "code",
   "execution_count": 18,
   "metadata": {},
   "outputs": [],
   "source": [
    "import pandas as pd\n",
    "import numpy as np\n",
    "import matplotlib.pyplot as plt\n",
    "import sklearn\n",
    "from sklearn.model_selection import train_test_split\n",
    "from sklearn import linear_model\n",
    "from sklearn.naive_bayes import GaussianNB"
   ]
  },
  {
   "cell_type": "code",
   "execution_count": 2,
   "metadata": {},
   "outputs": [],
   "source": [
    "df = pd.read_csv('Cleaned_Crime.csv', low_memory=False)"
   ]
  },
  {
   "cell_type": "code",
   "execution_count": 3,
   "metadata": {},
   "outputs": [
    {
     "data": {
      "text/html": [
       "<div>\n",
       "<style scoped>\n",
       "    .dataframe tbody tr th:only-of-type {\n",
       "        vertical-align: middle;\n",
       "    }\n",
       "\n",
       "    .dataframe tbody tr th {\n",
       "        vertical-align: top;\n",
       "    }\n",
       "\n",
       "    .dataframe thead th {\n",
       "        text-align: right;\n",
       "    }\n",
       "</style>\n",
       "<table border=\"1\" class=\"dataframe\">\n",
       "  <thead>\n",
       "    <tr style=\"text-align: right;\">\n",
       "      <th></th>\n",
       "      <th>Unnamed: 0</th>\n",
       "      <th>ID</th>\n",
       "      <th>Case Number</th>\n",
       "      <th>Date</th>\n",
       "      <th>Block</th>\n",
       "      <th>IUCR</th>\n",
       "      <th>Primary Type</th>\n",
       "      <th>Description</th>\n",
       "      <th>Location Description</th>\n",
       "      <th>Arrest</th>\n",
       "      <th>Domestic</th>\n",
       "      <th>Beat</th>\n",
       "      <th>District</th>\n",
       "      <th>FBI Code</th>\n",
       "      <th>Year</th>\n",
       "      <th>Location</th>\n",
       "    </tr>\n",
       "  </thead>\n",
       "  <tbody>\n",
       "    <tr>\n",
       "      <th>0</th>\n",
       "      <td>0</td>\n",
       "      <td>11556037</td>\n",
       "      <td>JC103643</td>\n",
       "      <td>01/03/2019 07:20:00 PM</td>\n",
       "      <td>0000X W RWY 27R</td>\n",
       "      <td>2890</td>\n",
       "      <td>PUBLIC PEACE VIOLATION</td>\n",
       "      <td>OTHER VIOLATION</td>\n",
       "      <td>AIRCRAFT</td>\n",
       "      <td>False</td>\n",
       "      <td>False</td>\n",
       "      <td>1654</td>\n",
       "      <td>16</td>\n",
       "      <td>26</td>\n",
       "      <td>2019</td>\n",
       "      <td>(42.002816387, -87.90609433)</td>\n",
       "    </tr>\n",
       "    <tr>\n",
       "      <th>1</th>\n",
       "      <td>1</td>\n",
       "      <td>11626027</td>\n",
       "      <td>JC188126</td>\n",
       "      <td>03/16/2019 05:58:00 PM</td>\n",
       "      <td>001XX N WELLS ST</td>\n",
       "      <td>0460</td>\n",
       "      <td>BATTERY</td>\n",
       "      <td>SIMPLE</td>\n",
       "      <td>STREET</td>\n",
       "      <td>False</td>\n",
       "      <td>False</td>\n",
       "      <td>122</td>\n",
       "      <td>1</td>\n",
       "      <td>08B</td>\n",
       "      <td>2019</td>\n",
       "      <td>(41.88336939, -87.633860272)</td>\n",
       "    </tr>\n",
       "    <tr>\n",
       "      <th>2</th>\n",
       "      <td>2</td>\n",
       "      <td>11622422</td>\n",
       "      <td>JC183696</td>\n",
       "      <td>03/12/2019 10:00:00 PM</td>\n",
       "      <td>008XX E 38TH PL</td>\n",
       "      <td>0820</td>\n",
       "      <td>THEFT</td>\n",
       "      <td>$500 AND UNDER</td>\n",
       "      <td>RESIDENTIAL YARD (FRONT/BACK)</td>\n",
       "      <td>False</td>\n",
       "      <td>False</td>\n",
       "      <td>212</td>\n",
       "      <td>2</td>\n",
       "      <td>06</td>\n",
       "      <td>2019</td>\n",
       "      <td>(41.825346902, -87.606780575)</td>\n",
       "    </tr>\n",
       "    <tr>\n",
       "      <th>3</th>\n",
       "      <td>3</td>\n",
       "      <td>11625922</td>\n",
       "      <td>JC185669</td>\n",
       "      <td>03/14/2019 06:42:00 PM</td>\n",
       "      <td>074XX N PAULINA ST</td>\n",
       "      <td>0460</td>\n",
       "      <td>BATTERY</td>\n",
       "      <td>SIMPLE</td>\n",
       "      <td>RESIDENCE</td>\n",
       "      <td>False</td>\n",
       "      <td>False</td>\n",
       "      <td>2422</td>\n",
       "      <td>24</td>\n",
       "      <td>08B</td>\n",
       "      <td>2019</td>\n",
       "      <td>(42.016541612, -87.672499325)</td>\n",
       "    </tr>\n",
       "    <tr>\n",
       "      <th>4</th>\n",
       "      <td>4</td>\n",
       "      <td>11622907</td>\n",
       "      <td>JC185406</td>\n",
       "      <td>03/14/2019 04:03:00 PM</td>\n",
       "      <td>008XX E 38TH PL</td>\n",
       "      <td>5002</td>\n",
       "      <td>OTHER OFFENSE</td>\n",
       "      <td>OTHER VEHICLE OFFENSE</td>\n",
       "      <td>STREET</td>\n",
       "      <td>False</td>\n",
       "      <td>True</td>\n",
       "      <td>212</td>\n",
       "      <td>2</td>\n",
       "      <td>26</td>\n",
       "      <td>2019</td>\n",
       "      <td>(41.825298645, -87.6069609)</td>\n",
       "    </tr>\n",
       "  </tbody>\n",
       "</table>\n",
       "</div>"
      ],
      "text/plain": [
       "   Unnamed: 0        ID Case Number                    Date  \\\n",
       "0           0  11556037    JC103643  01/03/2019 07:20:00 PM   \n",
       "1           1  11626027    JC188126  03/16/2019 05:58:00 PM   \n",
       "2           2  11622422    JC183696  03/12/2019 10:00:00 PM   \n",
       "3           3  11625922    JC185669  03/14/2019 06:42:00 PM   \n",
       "4           4  11622907    JC185406  03/14/2019 04:03:00 PM   \n",
       "\n",
       "                Block  IUCR            Primary Type            Description  \\\n",
       "0     0000X W RWY 27R  2890  PUBLIC PEACE VIOLATION        OTHER VIOLATION   \n",
       "1    001XX N WELLS ST  0460                 BATTERY                 SIMPLE   \n",
       "2     008XX E 38TH PL  0820                   THEFT         $500 AND UNDER   \n",
       "3  074XX N PAULINA ST  0460                 BATTERY                 SIMPLE   \n",
       "4     008XX E 38TH PL  5002           OTHER OFFENSE  OTHER VEHICLE OFFENSE   \n",
       "\n",
       "            Location Description  Arrest  Domestic  Beat  District FBI Code  \\\n",
       "0                       AIRCRAFT   False     False  1654        16       26   \n",
       "1                         STREET   False     False   122         1      08B   \n",
       "2  RESIDENTIAL YARD (FRONT/BACK)   False     False   212         2       06   \n",
       "3                      RESIDENCE   False     False  2422        24      08B   \n",
       "4                         STREET   False      True   212         2       26   \n",
       "\n",
       "   Year                       Location  \n",
       "0  2019   (42.002816387, -87.90609433)  \n",
       "1  2019   (41.88336939, -87.633860272)  \n",
       "2  2019  (41.825346902, -87.606780575)  \n",
       "3  2019  (42.016541612, -87.672499325)  \n",
       "4  2019    (41.825298645, -87.6069609)  "
      ]
     },
     "execution_count": 3,
     "metadata": {},
     "output_type": "execute_result"
    }
   ],
   "source": [
    "df.head()"
   ]
  },
  {
   "cell_type": "code",
   "execution_count": 4,
   "metadata": {},
   "outputs": [
    {
     "name": "stdout",
     "output_type": "stream",
     "text": [
      "<class 'pandas.core.frame.DataFrame'>\n",
      "RangeIndex: 7029103 entries, 0 to 7029102\n",
      "Data columns (total 16 columns):\n",
      "Unnamed: 0              int64\n",
      "ID                      int64\n",
      "Case Number             object\n",
      "Date                    object\n",
      "Block                   object\n",
      "IUCR                    object\n",
      "Primary Type            object\n",
      "Description             object\n",
      "Location Description    object\n",
      "Arrest                  bool\n",
      "Domestic                bool\n",
      "Beat                    int64\n",
      "District                int64\n",
      "FBI Code                object\n",
      "Year                    int64\n",
      "Location                object\n",
      "dtypes: bool(2), int64(5), object(9)\n",
      "memory usage: 764.2+ MB\n"
     ]
    }
   ],
   "source": [
    "df.info()"
   ]
  },
  {
   "cell_type": "code",
   "execution_count": 5,
   "metadata": {},
   "outputs": [
    {
     "name": "stdout",
     "output_type": "stream",
     "text": [
      "<class 'pandas.core.frame.DataFrame'>\n",
      "RangeIndex: 7029103 entries, 0 to 7029102\n",
      "Data columns (total 11 columns):\n",
      "Block                   object\n",
      "IUCR                    object\n",
      "Primary Type            object\n",
      "Description             object\n",
      "Location Description    object\n",
      "Arrest                  bool\n",
      "Domestic                bool\n",
      "Beat                    object\n",
      "District                object\n",
      "FBI Code                object\n",
      "Year                    object\n",
      "dtypes: bool(2), object(9)\n",
      "memory usage: 496.1+ MB\n"
     ]
    }
   ],
   "source": [
    "df = df.drop(['Unnamed: 0', 'ID', 'Case Number', 'Date', 'Location'], axis=1)\n",
    "df['Beat'] = df['Beat'].astype(str)\n",
    "df['District'] = df['District'].astype(str)\n",
    "df['Year'] = df['Year'].astype(str)\n",
    "df.info()"
   ]
  },
  {
   "cell_type": "code",
   "execution_count": 6,
   "metadata": {},
   "outputs": [
    {
     "name": "stdout",
     "output_type": "stream",
     "text": [
      "Arrest not made: 0.73 %\n",
      "Arrest made: 0.27 %\n"
     ]
    }
   ],
   "source": [
    "total = df.Arrest.count()\n",
    "print(\"Arrest not made:\", round(df.Arrest[df['Arrest'] == False].count()/total, 2), \"%\")\n",
    "print(\"Arrest made:\", round(df.Arrest[df['Arrest'] == True].count()/total, 2), \"%\")"
   ]
  },
  {
   "cell_type": "code",
   "execution_count": 7,
   "metadata": {},
   "outputs": [
    {
     "data": {
      "text/plain": [
       "Block                   59154\n",
       "IUCR                      402\n",
       "Primary Type               36\n",
       "Description               507\n",
       "Location Description      212\n",
       "Arrest                      2\n",
       "Domestic                    2\n",
       "Beat                      304\n",
       "District                   24\n",
       "FBI Code                   26\n",
       "Year                       20\n",
       "dtype: int64"
      ]
     },
     "execution_count": 7,
     "metadata": {},
     "output_type": "execute_result"
    }
   ],
   "source": [
    "df.nunique()"
   ]
  },
  {
   "cell_type": "code",
   "execution_count": 8,
   "metadata": {},
   "outputs": [],
   "source": [
    "Domestic = pd.get_dummies(df['Domestic'],drop_first=True)\n",
    "District = pd.get_dummies(df['District'],drop_first=True)\n",
    "FBI_Code = pd.get_dummies(df['FBI Code'],drop_first=True)\n",
    "Year = pd.get_dummies(df['Year'],drop_first=True)"
   ]
  },
  {
   "cell_type": "code",
   "execution_count": 9,
   "metadata": {},
   "outputs": [],
   "source": [
    "model_df = pd.concat([Domestic,District,FBI_Code,Year],axis=1)"
   ]
  },
  {
   "cell_type": "code",
   "execution_count": 12,
   "metadata": {},
   "outputs": [
    {
     "name": "stdout",
     "output_type": "stream",
     "text": [
      "<class 'pandas.core.frame.DataFrame'>\n",
      "RangeIndex: 7029103 entries, 0 to 7029102\n",
      "Data columns (total 68 columns):\n",
      "True    uint8\n",
      "10      uint8\n",
      "11      uint8\n",
      "12      uint8\n",
      "14      uint8\n",
      "15      uint8\n",
      "16      uint8\n",
      "17      uint8\n",
      "18      uint8\n",
      "19      uint8\n",
      "2       uint8\n",
      "20      uint8\n",
      "21      uint8\n",
      "22      uint8\n",
      "24      uint8\n",
      "25      uint8\n",
      "3       uint8\n",
      "31      uint8\n",
      "4       uint8\n",
      "5       uint8\n",
      "6       uint8\n",
      "7       uint8\n",
      "8       uint8\n",
      "9       uint8\n",
      "01B     uint8\n",
      "02      uint8\n",
      "03      uint8\n",
      "04A     uint8\n",
      "04B     uint8\n",
      "05      uint8\n",
      "06      uint8\n",
      "07      uint8\n",
      "08A     uint8\n",
      "08B     uint8\n",
      "09      uint8\n",
      "10      uint8\n",
      "11      uint8\n",
      "12      uint8\n",
      "13      uint8\n",
      "14      uint8\n",
      "15      uint8\n",
      "16      uint8\n",
      "17      uint8\n",
      "18      uint8\n",
      "19      uint8\n",
      "20      uint8\n",
      "22      uint8\n",
      "24      uint8\n",
      "26      uint8\n",
      "2002    uint8\n",
      "2003    uint8\n",
      "2004    uint8\n",
      "2005    uint8\n",
      "2006    uint8\n",
      "2007    uint8\n",
      "2008    uint8\n",
      "2009    uint8\n",
      "2010    uint8\n",
      "2011    uint8\n",
      "2012    uint8\n",
      "2013    uint8\n",
      "2014    uint8\n",
      "2015    uint8\n",
      "2016    uint8\n",
      "2017    uint8\n",
      "2018    uint8\n",
      "2019    uint8\n",
      "2020    uint8\n",
      "dtypes: uint8(68)\n",
      "memory usage: 455.8 MB\n"
     ]
    }
   ],
   "source": [
    "model_df.info()"
   ]
  },
  {
   "cell_type": "code",
   "execution_count": 13,
   "metadata": {},
   "outputs": [
    {
     "name": "stdout",
     "output_type": "stream",
     "text": [
      "(4920372, 68) (2108731, 68) (4920372,) (2108731,)\n"
     ]
    }
   ],
   "source": [
    "y = df['Arrest']\n",
    "X = model_df\n",
    "X_train, X_test, y_train, y_test = train_test_split(X, y, test_size=0.3)\n",
    "print(X_train.shape, X_test.shape, y_train.shape, y_test.shape)"
   ]
  },
  {
   "cell_type": "code",
   "execution_count": 16,
   "metadata": {},
   "outputs": [
    {
     "name": "stdout",
     "output_type": "stream",
     "text": [
      "[[1517066   11885]\n",
      " [ 309004  270776]]\n",
      "0.8478283858870572\n"
     ]
    }
   ],
   "source": [
    "lr = sklearn.linear_model.LogisticRegression(solver='newton-cg', multi_class='auto')\n",
    "arrestlr_model = lr.fit(X_train, y_train)\n",
    "yhat = arrestlr_model.predict(X_test)\n",
    "print(sklearn.metrics.confusion_matrix(y_test, yhat))\n",
    "print(arrestlr_model.score(X_test, y_test))"
   ]
  },
  {
   "cell_type": "code",
   "execution_count": 19,
   "metadata": {},
   "outputs": [
    {
     "name": "stdout",
     "output_type": "stream",
     "text": [
      "[[1519913    9038]\n",
      " [ 315417  264363]]\n",
      "0.8461373214506734\n"
     ]
    }
   ],
   "source": [
    "nb = GaussianNB()\n",
    "nb_model = nb.fit(X_train, y_train)\n",
    "yhatnb = nb.predict(X_test)\n",
    "print(sklearn.metrics.confusion_matrix(y_test, yhatnb))\n",
    "print(nb_model.score(X_test, y_test))"
   ]
  },
  {
   "cell_type": "code",
   "execution_count": null,
   "metadata": {},
   "outputs": [],
   "source": []
  }
 ],
 "metadata": {
  "kernelspec": {
   "display_name": "Python 3",
   "language": "python",
   "name": "python3"
  },
  "language_info": {
   "codemirror_mode": {
    "name": "ipython",
    "version": 3
   },
   "file_extension": ".py",
   "mimetype": "text/x-python",
   "name": "python",
   "nbconvert_exporter": "python",
   "pygments_lexer": "ipython3",
   "version": "3.7.4"
  }
 },
 "nbformat": 4,
 "nbformat_minor": 4
}
